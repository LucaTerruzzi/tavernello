{
 "cells": [
  {
   "cell_type": "code",
   "execution_count": null,
   "metadata": {},
   "outputs": [],
   "source": [
    "import subprocess\n",
    "import pandas as pd\n",
    "import numpy as np\n",
    "from io import StringIO\n",
    "from multiprocessing import Pool"
   ]
  },
  {
   "cell_type": "code",
   "execution_count": null,
   "metadata": {},
   "outputs": [],
   "source": [
    "motifs = \"motifs_at.meme\"\n",
    "input_dir = \"Input\""
   ]
  },
  {
   "cell_type": "markdown",
   "metadata": {},
   "source": [
    "Treshold for p value. Harcoded for now :)"
   ]
  },
  {
   "cell_type": "code",
   "execution_count": null,
   "metadata": {},
   "outputs": [],
   "source": [
    "p_treshold = 1e-3"
   ]
  },
  {
   "cell_type": "markdown",
   "metadata": {},
   "source": [
    "Given a list, eliminated duplicated by appending an incremental value"
   ]
  },
  {
   "cell_type": "code",
   "execution_count": null,
   "metadata": {},
   "outputs": [],
   "source": [
    "def resolve_duplicates(lst):\n",
    "    d = {k:0 for k in list(set(lst))}\n",
    "    for i in range(len(lst)):\n",
    "        d[lst.iloc[i]]+=1\n",
    "        lst.iloc[i] = lst.iloc[i] + \"_r\" + str(d[lst.iloc[i]])"
   ]
  },
  {
   "cell_type": "markdown",
   "metadata": {},
   "source": [
    "Given a gene name, find the motifs in the corresponding upstream sequence. \n",
    "The file with the sequence must be inside the input_dir directory\n",
    "N.B. resolve_duplicated is commented out since it may yeld better results (?)"
   ]
  },
  {
   "cell_type": "code",
   "execution_count": null,
   "metadata": {},
   "outputs": [],
   "source": [
    "def compute_list(gene):\n",
    "    try:\n",
    "        res = subprocess.run([\"fimo\",\"--skip-matched-sequence\", \"--verbosity\", \"1\", input_dir + \"/\" + motifs, input_dir + \"/\" + gene + \".fasta\"],capture_output=True,check=True,text=True)\n",
    "        result = pd.read_csv(StringIO(res.stdout), sep=\"\\t\", usecols=[\"motif_id\",\"p-value\"])\n",
    "        result_cut = result.loc[result[\"p-value\"] < p_treshold,\"motif_id\"]\n",
    "        #resolve_duplicates(result_cut)\n",
    "        return result_cut\n",
    "    except subprocess.CalledProcessError as exp:\n",
    "        return None"
   ]
  },
  {
   "cell_type": "markdown",
   "metadata": {},
   "source": [
    "Find the motifs present in each of the genes in gene_list.\n",
    "Return a Pandas Series with name_of_the_gene : list_of_motifs for each gene."
   ]
  },
  {
   "cell_type": "code",
   "execution_count": null,
   "metadata": {},
   "outputs": [],
   "source": [
    "def FindMotifs(gene_list):\n",
    "    with Pool(None) as p:\n",
    "        results = p.map(compute_list, gene_list)\n",
    "    return pd.Series(results, index=gene_list)"
   ]
  }
 ],
 "metadata": {
  "kernelspec": {
   "display_name": "Python 3",
   "language": "python",
   "name": "python3"
  },
  "language_info": {
   "codemirror_mode": {
    "name": "ipython",
    "version": 3
   },
   "file_extension": ".py",
   "mimetype": "text/x-python",
   "name": "python",
   "nbconvert_exporter": "python",
   "pygments_lexer": "ipython3",
   "version": "3.7.1"
  }
 },
 "nbformat": 4,
 "nbformat_minor": 2
}
