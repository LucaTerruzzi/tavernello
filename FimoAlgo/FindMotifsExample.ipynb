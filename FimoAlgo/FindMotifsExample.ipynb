{
 "cells": [
  {
   "cell_type": "markdown",
   "metadata": {},
   "source": [
    "<h3>Demonstrate the use of MotifsFinder</h3>"
   ]
  },
  {
   "cell_type": "code",
   "execution_count": 1,
   "metadata": {},
   "outputs": [],
   "source": [
    "import numpy as np\n",
    "import pandas as pd\n",
    "from Bio import Align\n",
    "from Motifstools.FindMotifs import FindMotifs"
   ]
  },
  {
   "cell_type": "markdown",
   "metadata": {},
   "source": [
    "Input examples. The files with the sequences must be in the Input directory in the format gene_name.fasta.\n",
    "The genes in sample_list_at/vv are the one that sould be homologues from literature.\n",
    "The task is one of the Phd thesis."
   ]
  },
  {
   "cell_type": "code",
   "execution_count": 2,
   "metadata": {},
   "outputs": [],
   "source": [
    "sample_input_list = [\"meme_ara\",\"meme_ara_1\",\"meme_ara_2\",\"meme_ara_3\",\"meme_ara_4\",\"meme_ara_5\",\"meme_ara_6\",\"meme_ara_7\",\"meme_ara\",\"meme_ara_1\",\"meme_ara_2\",\"meme_ara_3\",\"meme_ara_4\",\"meme_ara_5\",\"meme_ara_6\",\"meme_ara_7\"]\n",
    "sample_list_at = [\"AT2G46680\",\"AT4G26080\",\"AT3G19290\",\"AT1G08810\",\"AT2G47160\"]\n",
    "sample_list_vv = [\"VIT_15s0048g02870\",\"VIT_11s0016g03180\",\"VIT_18s0001g10450\",\"VIT_08s0056g00800\",\"VIT_17s0000g08530\"]\n",
    "sample_task_at = \"AT4G28110\"\n",
    "sample_task_vv = [\"VIT_12s0134g00570\",\"VIT_19s0014g03820\",\"VIT_00s0203g00070\"]"
   ]
  },
  {
   "cell_type": "markdown",
   "metadata": {},
   "source": [
    "Used for alignment"
   ]
  },
  {
   "cell_type": "code",
   "execution_count": 3,
   "metadata": {},
   "outputs": [],
   "source": [
    "at_cdna = pd.read_csv(\"Input/arabidopsis_cDNA.csv\",sep=\"\\t\")\n",
    "vv_cdna = pd.read_csv(\"Input/vitis_cDNA.csv\",sep=\"\\t\")"
   ]
  },
  {
   "cell_type": "markdown",
   "metadata": {},
   "source": [
    "Used for some exmaples below"
   ]
  },
  {
   "cell_type": "code",
   "execution_count": 4,
   "metadata": {},
   "outputs": [],
   "source": [
    "def align(seq1,seq2):\n",
    "    aligner = Align.PairwiseAligner()\n",
    "    aligner.mode = \"local\"\n",
    "    aligner.open_gap_score = -4\n",
    "    aligner.extend_gap_score = -2\n",
    "    aligner.match = 2\n",
    "    aligner.mismatch = -3\n",
    "    score = aligner.score(seq1, seq2)\n",
    "    return score "
   ]
  },
  {
   "cell_type": "code",
   "execution_count": 18,
   "metadata": {},
   "outputs": [],
   "source": [
    "def jaccard_similarity(x,y):\n",
    "    inter = len(set.intersection(set(x), set(y)))\n",
    "    return inter / float(len(set(x)) + len(set(y)) - inter)"
   ]
  },
  {
   "cell_type": "markdown",
   "metadata": {},
   "source": [
    "Compute the motifs for two example lists (should be the expansion lists)"
   ]
  },
  {
   "cell_type": "code",
   "execution_count": 6,
   "metadata": {},
   "outputs": [],
   "source": [
    "at = FindMotifs(sample_list_at)\n",
    "vv = FindMotifs(sample_list_vv)"
   ]
  },
  {
   "cell_type": "markdown",
   "metadata": {},
   "source": [
    "Compute some values as testing.<br>\n",
    "sim_j: matrix 5x5 with only jaccard distances<br>\n",
    "sim_a: matrix 5x5 with only alignment<br>\n",
    "sim: matrix 5x5 with jaccard*alignmet<br>"
   ]
  },
  {
   "cell_type": "code",
   "execution_count": 19,
   "metadata": {},
   "outputs": [],
   "source": [
    "sim_j = np.zeros((5,5))\n",
    "for i in range(len(at)):\n",
    "    for j in range(len(vv)):\n",
    "        sim_j[i,j] = jaccard_similarity(at[i],vv[j])"
   ]
  },
  {
   "cell_type": "code",
   "execution_count": 8,
   "metadata": {},
   "outputs": [],
   "source": [
    "sim_a = np.zeros((5,5))\n",
    "for i in range(5):\n",
    "    for j in range(5):\n",
    "        a = at_cdna.loc[(at_cdna[\"a_thaliana_gene\"] == sample_list_at[i]),\"a_sequence\"].iloc[0]\n",
    "        v = vv_cdna.loc[(vv_cdna[\"vitis_gene\"] == sample_list_vv[j]),\"v_sequence\"].iloc[0]\n",
    "        sim_a[i,j] = align(a,v)"
   ]
  },
  {
   "cell_type": "code",
   "execution_count": 20,
   "metadata": {},
   "outputs": [],
   "source": [
    "sim = np.zeros((5,5))\n",
    "for i in range(len(at)):\n",
    "    for j in range(len(vv)):\n",
    "        a = at_cdna.loc[(at_cdna[\"a_thaliana_gene\"] == sample_list_at[i]),\"a_sequence\"].iloc[0]\n",
    "        v = vv_cdna.loc[(vv_cdna[\"vitis_gene\"] == sample_list_vv[j]),\"v_sequence\"].iloc[0]\n",
    "        sim[i,j] = jaccard_similarity(at[i],vv[j]) * align(a,v)"
   ]
  },
  {
   "cell_type": "code",
   "execution_count": 21,
   "metadata": {},
   "outputs": [
    {
     "name": "stdout",
     "output_type": "stream",
     "text": [
      "Jaccard\n",
      "[[0.31391586 0.2751938  0.18373494 0.28023599 0.15555556]\n",
      " [0.26719577 0.30097087 0.20725389 0.2835443  0.20718232]\n",
      " [0.25336927 0.21630094 0.24517906 0.29396325 0.25892857]\n",
      " [0.29807692 0.36666667 0.20245399 0.28106509 0.23890785]\n",
      " [0.29512894 0.26689189 0.19945355 0.40762463 0.36666667]]\n",
      "Align\n",
      "[[ 191.   31.   28.   34.   23.]\n",
      " [  26.  244.   28.   29.   28.]\n",
      " [  25.   35.  255.   28.   26.]\n",
      " [  31.   28.   27.  390.   28.]\n",
      " [  30.   27.   29.   29. 1163.]]\n",
      "Both\n",
      "[[ 59.9579288    8.53100775   5.14457831   9.5280236    3.57777778]\n",
      " [  6.94708995  73.4368932    5.80310881   8.22278481   5.80110497]\n",
      " [  6.33423181   7.57053292  62.52066116   8.23097113   6.73214286]\n",
      " [  9.24038462  10.26666667   5.46625767 109.61538462   6.6894198 ]\n",
      " [  8.85386819   7.20608108   5.78415301  11.82111437 426.43333333]]\n"
     ]
    }
   ],
   "source": [
    "print(\"Jaccard\")\n",
    "print(sim_j)\n",
    "print(\"Align\")\n",
    "print(sim_a)\n",
    "print(\"Both\")\n",
    "print(sim)"
   ]
  },
  {
   "cell_type": "markdown",
   "metadata": {},
   "source": [
    "Compute the ratio between the max and the other of a line of the matrix to see if things get better from sim_j/a to sim"
   ]
  },
  {
   "cell_type": "code",
   "execution_count": 29,
   "metadata": {},
   "outputs": [
    {
     "name": "stdout",
     "output_type": "stream",
     "text": [
      "Jaccard\n",
      "[0.72402136 0.65474917 0.48930692 1.         0.89952038]\n",
      "Align\n",
      "[0.02579536 0.02321582 0.02493551 0.02493551 1.        ]\n",
      "Both\n",
      "[0.02076261 0.01689849 0.01356403 0.0277209  1.        ]\n"
     ]
    }
   ],
   "source": [
    "print(\"Jaccard\")\n",
    "print(sim_j[4,:] / max(sim_j[4,:]))\n",
    "print(\"Align\")\n",
    "print(sim_a[4,:] / max(sim_a[4,:]))\n",
    "print(\"Both\")\n",
    "print(sim[4,:] / max(sim[4,:]))"
   ]
  },
  {
   "cell_type": "markdown",
   "metadata": {},
   "source": [
    "Test for task"
   ]
  },
  {
   "cell_type": "code",
   "execution_count": 27,
   "metadata": {},
   "outputs": [],
   "source": [
    "task_at = FindMotifs([sample_task_at])\n",
    "task_vv = FindMotifs(sample_task_vv)"
   ]
  },
  {
   "cell_type": "code",
   "execution_count": 28,
   "metadata": {},
   "outputs": [
    {
     "name": "stdout",
     "output_type": "stream",
     "text": [
      "0.24838012958963282\n",
      "0.4149184149184149\n",
      "0.3048245614035088\n"
     ]
    }
   ],
   "source": [
    "print(jaccard_similarity(task_at[0],task_vv[0]))\n",
    "print(jaccard_similarity(task_at[0],task_vv[1]))\n",
    "print(jaccard_similarity(task_at[0],task_vv[2]))"
   ]
  }
 ],
 "metadata": {
  "kernelspec": {
   "display_name": "Python 3",
   "language": "python",
   "name": "python3"
  },
  "language_info": {
   "codemirror_mode": {
    "name": "ipython",
    "version": 3
   },
   "file_extension": ".py",
   "mimetype": "text/x-python",
   "name": "python",
   "nbconvert_exporter": "python",
   "pygments_lexer": "ipython3",
   "version": "3.7.1"
  }
 },
 "nbformat": 4,
 "nbformat_minor": 2
}
