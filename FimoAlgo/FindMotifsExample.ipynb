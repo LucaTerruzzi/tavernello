{
 "cells": [
  {
   "cell_type": "markdown",
   "metadata": {},
   "source": [
    "<h3>Demonstrate the use of MotifsFinder</h3>"
   ]
  },
  {
   "cell_type": "code",
   "execution_count": 13,
   "metadata": {},
   "outputs": [],
   "source": [
    "import numpy as np\n",
    "import pandas as pd\n",
    "from Bio import Align\n",
    "from Motifstools.FindMotifs import FindMotifs"
   ]
  },
  {
   "cell_type": "markdown",
   "metadata": {},
   "source": [
    "Input examples. The files with the sequences must be in the Input directory in the format gene_name.fasta.\n",
    "The genes in sample_list_at/vv are the one that sould be homologues from literature.\n",
    "The task is one of the Phd thesis."
   ]
  },
  {
   "cell_type": "code",
   "execution_count": 5,
   "metadata": {},
   "outputs": [],
   "source": [
    "sample_input_list = [\"meme_ara\",\"meme_ara_1\",\"meme_ara_2\",\"meme_ara_3\",\"meme_ara_4\",\"meme_ara_5\",\"meme_ara_6\",\"meme_ara_7\",\"meme_ara\",\"meme_ara_1\",\"meme_ara_2\",\"meme_ara_3\",\"meme_ara_4\",\"meme_ara_5\",\"meme_ara_6\",\"meme_ara_7\"]\n",
    "sample_list_at = [\"AT2G46680\",\"AT4G26080\",\"AT3G19290\",\"AT1G08810\",\"AT2G47160\"]\n",
    "sample_list_vv = [\"VIT_15s0048g02870\",\"VIT_11s0016g03180\",\"VIT_18s0001g10450\",\"VIT_08s0056g00800\",\"VIT_17s0000g08530\"]\n",
    "sample_task_at = \"AT4G28110\"\n",
    "sample_task_vv = [\"VIT_12s0134g00570\",\"VIT_19s0014g03820\",\"VIT_00s0203g00070\"]"
   ]
  },
  {
   "cell_type": "markdown",
   "metadata": {},
   "source": [
    "Used for alignment"
   ]
  },
  {
   "cell_type": "code",
   "execution_count": 7,
   "metadata": {},
   "outputs": [],
   "source": [
    "at_cdna = pd.read_csv(\"Input/arabidopsis_cDNA.csv\",sep=\"\\t\")\n",
    "vv_cdna = pd.read_csv(\"Input/vitis_cDNA.csv\",sep=\"\\t\")"
   ]
  },
  {
   "cell_type": "markdown",
   "metadata": {},
   "source": [
    "Used for some exmaples below"
   ]
  },
  {
   "cell_type": "code",
   "execution_count": 8,
   "metadata": {},
   "outputs": [],
   "source": [
    "def align(seq1,seq2):\n",
    "    aligner = Align.PairwiseAligner()\n",
    "    aligner.mode = \"local\"\n",
    "    aligner.open_gap_score = -4\n",
    "    aligner.extend_gap_score = -2\n",
    "    aligner.match = 2\n",
    "    aligner.mismatch = -3\n",
    "    score = aligner.score(seq1, seq2)\n",
    "    return score "
   ]
  },
  {
   "cell_type": "code",
   "execution_count": 9,
   "metadata": {},
   "outputs": [],
   "source": [
    "def jaccard_similarity(x,y):\n",
    "    inter = len(set.intersection(set(x), set(y)))\n",
    "    return inter / float(len(x) + len(y) - inter)"
   ]
  },
  {
   "cell_type": "markdown",
   "metadata": {},
   "source": [
    "Compute the motifs for two example lists (should be the expansion lists)"
   ]
  },
  {
   "cell_type": "code",
   "execution_count": 10,
   "metadata": {},
   "outputs": [],
   "source": [
    "at = FindMotifs(sample_list_at)\n",
    "vv = FindMotifs(sample_list_vv)"
   ]
  },
  {
   "cell_type": "markdown",
   "metadata": {},
   "source": [
    "Compute some values as testing.<br>\n",
    "sim_j: matrix 5x5 with only jaccard distances<br>\n",
    "sim_a: matrix 5x5 with only alignment<br>\n",
    "sim: matrix 5x5 with jaccard*alignmet<br>"
   ]
  },
  {
   "cell_type": "code",
   "execution_count": 11,
   "metadata": {},
   "outputs": [],
   "source": [
    "sim_j = np.zeros((5,5))\n",
    "for i in range(len(at)):\n",
    "    for j in range(len(vv)):\n",
    "        sim_j[i,j] = jaccard_similarity(at[i],vv[j])"
   ]
  },
  {
   "cell_type": "code",
   "execution_count": 14,
   "metadata": {},
   "outputs": [],
   "source": [
    "sim_a = np.zeros((5,5))\n",
    "for i in range(5):\n",
    "    for j in range(5):\n",
    "        a = at_cdna.loc[(at_cdna[\"a_thaliana_gene\"] == sample_list_at[i]),\"a_sequence\"].iloc[0]\n",
    "        v = vv_cdna.loc[(vv_cdna[\"vitis_gene\"] == sample_list_vv[j]),\"v_sequence\"].iloc[0]\n",
    "        sim_a[i,j] = align(a,v)"
   ]
  },
  {
   "cell_type": "code",
   "execution_count": 15,
   "metadata": {},
   "outputs": [],
   "source": [
    "sim = np.zeros((5,5))\n",
    "for i in range(len(at)):\n",
    "    for j in range(len(vv)):\n",
    "        a = at_cdna.loc[(at_cdna[\"a_thaliana_gene\"] == sample_list_at[i]),\"a_sequence\"].iloc[0]\n",
    "        v = vv_cdna.loc[(vv_cdna[\"vitis_gene\"] == sample_list_vv[j]),\"v_sequence\"].iloc[0]\n",
    "        sim[i,j] = jaccard_similarity(at[i],vv[j]) * align(a,v)"
   ]
  },
  {
   "cell_type": "code",
   "execution_count": 17,
   "metadata": {},
   "outputs": [
    {
     "name": "stdout",
     "output_type": "stream",
     "text": [
      "Jaccard\n",
      "[[0.15062112 0.11735537 0.11050725 0.11150235 0.08876812]\n",
      " [0.10895361 0.10689655 0.09756098 0.09982175 0.09225092]\n",
      " [0.13333333 0.1037594  0.15292096 0.12541993 0.1520979 ]\n",
      " [0.13880597 0.1442623  0.11599297 0.10869565 0.12658228]\n",
      " [0.11469933 0.09218203 0.09125    0.13014981 0.14647137]]\n",
      "Align\n",
      "[[ 191.   31.   28.   34.   23.]\n",
      " [  26.  244.   28.   29.   28.]\n",
      " [  25.   35.  255.   28.   26.]\n",
      " [  31.   28.   27.  390.   28.]\n",
      " [  30.   27.   29.   29. 1163.]]\n",
      "Both\n",
      "[[ 28.76863354   3.63801653   3.0942029    3.79107981   2.04166667]\n",
      " [  2.83279396  26.08275862   2.73170732   2.89483066   2.58302583]\n",
      " [  3.33333333   3.63157895  38.99484536   3.51175812   3.95454545]\n",
      " [  4.30298507   4.03934426   3.13181019  42.39130435   3.5443038 ]\n",
      " [  3.44097996   2.48891482   2.64625      3.77434457 170.34620506]]\n"
     ]
    }
   ],
   "source": [
    "print(\"Jaccard\")\n",
    "print(sim_j)\n",
    "print(\"Align\")\n",
    "print(sim_a)\n",
    "print(\"Both\")\n",
    "print(sim)"
   ]
  },
  {
   "cell_type": "markdown",
   "metadata": {},
   "source": [
    "Compute the ratio between the max and the other of a line of the matrix to see if things get better from sim_j/a to sim"
   ]
  },
  {
   "cell_type": "code",
   "execution_count": 19,
   "metadata": {},
   "outputs": [
    {
     "name": "stdout",
     "output_type": "stream",
     "text": [
      "Jaccard\n",
      "[1.         0.77914288 0.73367698 0.74028363 0.58934708]\n",
      "Align\n",
      "[1.         0.16230366 0.14659686 0.17801047 0.12041885]\n",
      "Both\n",
      "[1.         0.12645775 0.10755474 0.13177824 0.0709685 ]\n"
     ]
    }
   ],
   "source": [
    "print(\"Jaccard\")\n",
    "print(sim_j[0,:] / max(sim_j[0,:]))\n",
    "print(\"Align\")\n",
    "print(sim_a[0,:] / max(sim_a[0,:]))\n",
    "print(\"Both\")\n",
    "print(sim[0,:] / max(sim[0,:]))"
   ]
  },
  {
   "cell_type": "markdown",
   "metadata": {},
   "source": [
    "Test for task"
   ]
  },
  {
   "cell_type": "code",
   "execution_count": 22,
   "metadata": {},
   "outputs": [],
   "source": [
    "task_at = FindMotifs([sample_task_at])\n",
    "task_vv = FindMotifs(sample_task_vv)"
   ]
  },
  {
   "cell_type": "code",
   "execution_count": 24,
   "metadata": {},
   "outputs": [
    {
     "name": "stdout",
     "output_type": "stream",
     "text": [
      "0.14007308160779536\n",
      "0.14015748031496064\n",
      "0.15325248070562295\n"
     ]
    }
   ],
   "source": [
    "print(jaccard_similarity(task_at[0],task_vv[0]))\n",
    "print(jaccard_similarity(task_at[0],task_vv[1]))\n",
    "print(jaccard_similarity(task_at[0],task_vv[2]))"
   ]
  },
  {
   "cell_type": "code",
   "execution_count": null,
   "metadata": {},
   "outputs": [],
   "source": []
  }
 ],
 "metadata": {
  "kernelspec": {
   "display_name": "Python 3",
   "language": "python",
   "name": "python3"
  },
  "language_info": {
   "codemirror_mode": {
    "name": "ipython",
    "version": 3
   },
   "file_extension": ".py",
   "mimetype": "text/x-python",
   "name": "python",
   "nbconvert_exporter": "python",
   "pygments_lexer": "ipython3",
   "version": "3.7.1"
  }
 },
 "nbformat": 4,
 "nbformat_minor": 2
}
